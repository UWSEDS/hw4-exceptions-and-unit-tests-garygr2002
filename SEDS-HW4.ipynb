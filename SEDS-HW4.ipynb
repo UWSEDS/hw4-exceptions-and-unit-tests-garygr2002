{
 "cells": [
  {
   "cell_type": "markdown",
   "metadata": {},
   "source": [
    "# Homework 4 - Gary Gregg"
   ]
  },
  {
   "cell_type": "markdown",
   "metadata": {},
   "source": [
    "The functions are get_data() and remove_data() are coded here, but there are separate \"py\" files for this code, and unit tests that run it.  See the files data.py, and test_data.py.  In this notebook file there is a brief sanity test at the bottom that is not included in data.py."
   ]
  },
  {
   "cell_type": "code",
   "execution_count": 4,
   "metadata": {
    "collapsed": false,
    "deletable": true,
    "editable": true
   },
   "outputs": [
    {
     "name": "stderr",
     "output_type": "stream",
     "text": [
      "/home/gary/miniconda3/lib/python3.6/site-packages/urllib3/connectionpool.py:852: InsecureRequestWarning: Unverified HTTPS request is being made. Adding certificate verification is strongly advised. See: https://urllib3.readthedocs.io/en/latest/advanced-usage.html#ssl-warnings\n",
      "  InsecureRequestWarning)\n"
     ]
    }
   ],
   "source": [
    "import ntpath\n",
    "import shutil\n",
    "import os\n",
    "import urllib3\n",
    "\n",
    "\n",
    "# The path root\n",
    "path_root = 'data/'\n",
    "\n",
    "\n",
    "# get_data(url): Downloads a file given its URL if the file does not already exist locally.\n",
    "def get_data(url):\n",
    "    \n",
    "    # Extract the file base name from the URL, and use that to determine the path to any existing file.\n",
    "    # Does the file not already exist?\n",
    "    path = '{}{}'.format(path_root, ntpath.basename(url))\n",
    "    if not os.path.exists(path):\n",
    "        \n",
    "        # The file does not already exist. Request the file using the URL.  Raise an exception if the\n",
    "        # file was not found.\n",
    "        my_request = urllib3.PoolManager().request('GET', url, retries = False, preload_content = False)\n",
    "        if my_request.status != 200:\n",
    "            raise FileNotFoundError\n",
    "            \n",
    "        # The file was found. Read it into local system.\n",
    "        with my_request as r, open(path, 'wb') as out_file:\n",
    "            shutil.copyfileobj(r, out_file)\n",
    "    return\n",
    "\n",
    "\n",
    "# remove_data(file): Removes an existing file resource given a name.\n",
    "def remove_data(file):\n",
    "    \n",
    "    # Determine the path to any existing file. Does the file exist?\n",
    "    path = '{}{}'.format(path_root, file)\n",
    "    if os.path.exists(path):\n",
    "        \n",
    "        # The file exists. Remove it.\n",
    "        os.remove(path)\n",
    "    return\n",
    "\n",
    "\n",
    "# Sanity test of get_data() and remove_data() - See unit tests for more detailed testing.\n",
    "url = 'https://data.seattle.gov/resource/4xy5-26gy.csv'\n",
    "get_data(url)\n",
    "remove_data(ntpath.basename(url))\n"
   ]
  }
 ],
 "metadata": {
  "kernelspec": {
   "display_name": "Python 3",
   "language": "python",
   "name": "python3"
  },
  "language_info": {
   "codemirror_mode": {
    "name": "ipython",
    "version": 3
   },
   "file_extension": ".py",
   "mimetype": "text/x-python",
   "name": "python",
   "nbconvert_exporter": "python",
   "pygments_lexer": "ipython3",
   "version": "3.6.0"
  }
 },
 "nbformat": 4,
 "nbformat_minor": 2
}
